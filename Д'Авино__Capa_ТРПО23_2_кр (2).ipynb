{
 "cells": [
  {
   "cell_type": "markdown",
   "metadata": {},
   "source": [
    "### Контрольная работа № 1.\n",
    "### Вариант 2.\n",
    "#### Студент Д'Авино Capa  группа  ТРПО23_2"
   ]
  },
  {
   "cell_type": "markdown",
   "metadata": {},
   "source": [
    "1. Напишите программу, которая выполняет добавление, удаление и вывод на экран элементов списка при помощи классов. \n",
    "\n",
    "Решение задачи\n",
    "\n",
    "1.\tСоздаем класс и с помощью конструктора инициализируем значения этого класса.\n",
    "2.\tСоздаем в данном классе методы для добавления, удаления и вывода на экран соответствующих значений.\n",
    "3.\tСоздаем объект данного класса.\n",
    "4.\tИспользуя созданный объект, вызываем соответствующий метод (в зависимости от выбора пользователя).\n",
    "5.\tВыводим результат на экран.\n",
    "6.\tКонец.\n",
    "\n",
    "В программе реализовать выбор с помощью меню:\n",
    "\n",
    "print(\"0. Выход\")\n",
    "\n",
    "print(\"1. Добавить\")\n",
    "\n",
    "print(\"2. Удалить\")\n",
    "\n",
    "print(\"3. Вывести на экран\")\n",
    "\n",
    "choice = int(input(\"Выберите одно из этих значений: \"))\n",
    "\n"
   ]
  },
  {
   "cell_type": "code",
   "execution_count": 7,
   "metadata": {},
   "outputs": [
    {
     "name": "stdout",
     "output_type": "stream",
     "text": [
      "0. Выход\n",
      "1. Добавить\n",
      "2. Удалить\n",
      "3. Вывести на экран\n",
      "Выберите одно из этих значений: 1\n",
      "x = SARA\n",
      "0. Выход\n",
      "1. Добавить\n",
      "2. Удалить\n",
      "3. Вывести на экран\n",
      "Выберите одно из этих значений: 1\n",
      "x = D'AVINO\n",
      "0. Выход\n",
      "1. Добавить\n",
      "2. Удалить\n",
      "3. Вывести на экран\n",
      "Выберите одно из этих значений: 3\n"
     ]
    },
    {
     "ename": "AttributeError",
     "evalue": "'Heart' object has no attribute 'element'",
     "output_type": "error",
     "traceback": [
      "\u001b[1;31m---------------------------------------------------------------------------\u001b[0m",
      "\u001b[1;31mAttributeError\u001b[0m                            Traceback (most recent call last)",
      "Cell \u001b[1;32mIn[7], line 41\u001b[0m\n\u001b[0;32m     39\u001b[0m     monkey\u001b[38;5;241m.\u001b[39mудаления(element)\n\u001b[0;32m     40\u001b[0m \u001b[38;5;28;01mif\u001b[39;00m choice \u001b[38;5;241m==\u001b[39m \u001b[38;5;241m3\u001b[39m:\n\u001b[1;32m---> 41\u001b[0m     monkey\u001b[38;5;241m.\u001b[39mвывод_на_экран()\n",
      "Cell \u001b[1;32mIn[7], line 15\u001b[0m, in \u001b[0;36mHeart.вывод_на_экран\u001b[1;34m(self)\u001b[0m\n\u001b[0;32m     14\u001b[0m \u001b[38;5;28;01mdef\u001b[39;00m \u001b[38;5;21mвывод_на_экран\u001b[39m(\u001b[38;5;28mself\u001b[39m):\n\u001b[1;32m---> 15\u001b[0m     \u001b[38;5;28;01mfor\u001b[39;00m element \u001b[38;5;129;01min\u001b[39;00m \u001b[38;5;28mself\u001b[39m\u001b[38;5;241m.\u001b[39melement:\n\u001b[0;32m     16\u001b[0m         \u001b[38;5;28;01mreturn\u001b[39;00m \u001b[38;5;28mself\u001b[39m\u001b[38;5;241m.\u001b[39melements\n",
      "\u001b[1;31mAttributeError\u001b[0m: 'Heart' object has no attribute 'element'"
     ]
    }
   ],
   "source": [
    "# Решение 1.\n",
    "class Heart:\n",
    "    def  __init__(self):\n",
    "        self.elements = []\n",
    "        \n",
    "        \n",
    "    def добавления(self, elemet):\n",
    "        self.elements.append(element)\n",
    "        \n",
    "    def удаления(self, element):\n",
    "        if element in self.elements:\n",
    "            self.element.remove(element)\n",
    "    \n",
    "    def вывод_на_экран(self):\n",
    "        for element in self.element:\n",
    "            return self.elements\n",
    "\n",
    "    \n",
    "monkey = Heart()    \n",
    "\n",
    "\n",
    "while True:\n",
    "    print(\"0. Выход\")\n",
    "\n",
    "    print(\"1. Добавить\")\n",
    "\n",
    "    print(\"2. Удалить\")\n",
    "\n",
    "    print(\"3. Вывести на экран\")\n",
    "\n",
    "    choice = int(input(\"Выберите одно из этих значений: \"))\n",
    "    \n",
    "    if choice == 0:\n",
    "        print('you exit')\n",
    "    if choice == 1:\n",
    "        element = input('x = ')\n",
    "        monkey.добавления(element)\n",
    "    if choice == 2:\n",
    "        monkey.удаления(element)\n",
    "    if choice == 3:\n",
    "        monkey.вывод_на_экран()\n",
    "        \n",
    "        \n",
    "        \n",
    "        \n",
    "    \n",
    "    \n",
    "\n",
    "\n",
    "        "
   ]
  },
  {
   "cell_type": "markdown",
   "metadata": {},
   "source": [
    "2. Используя класс People в качестве базового, создайте класс Сотрудник (Worker), имеющий свойства:\n",
    "\n",
    "• должность (post)\n",
    "\n",
    "• зарплата (salary)\n",
    "\n",
    "методы:\n",
    "\n",
    "• __init__ – конструктор;\n",
    "\n",
    "• __str__ – аналогично методу класса Teacher из примера.\n",
    "\n",
    "Используя класс Сотрудник в качестве базового создайте класс Преподаватель (Teacher), имеющий:\n",
    "\n",
    "• закрытый атрибут дисциплины (disciplines), в котором хранятся названия дисциплин, которые ведет преподаватель;\n",
    "\n",
    "• методы __init__ и __str__;\n",
    "\n",
    "• методы добавить_дисциплину (add_dis) и удалить_дисциплину (delete_dis), которые позволяют изменять список дисциплин.\n",
    "\n",
    "Создайте список, содержащий по 2 объекта каждого класса (People, Worker, Teacher). Для этого списка:\n",
    "\n",
    "• выведите информацию о каждом человеке с помощью метода info;\n",
    "\n",
    "• выведите фамилии тех, кто моложе 30 лет;\n",
    "\n",
    "• продемонстрируйте работу со свойствами должность и зарплата и методами добавить_дисциплину и удалить_дисциплину.\n"
   ]
  },
  {
   "cell_type": "code",
   "execution_count": 8,
   "metadata": {},
   "outputs": [
    {
     "name": "stdout",
     "output_type": "stream",
     "text": [
      "Имя: Иван, Возраст: 25\n",
      "Имя: Анна, Возраст: 35\n",
      "Имя: Петр, Возраст: 40\n",
      "Имя: Сергей, Возраст: 30\n",
      "Имя: Мария, Возраст: 28\n",
      "Имя: Алексей, Возраст: 32\n",
      "Иван\n",
      "Мария\n",
      "Должность: Менеджер, Зарплата: 50000\n",
      "Должность: Инженер, Зарплата: 60000\n",
      "Должность: Профессор, Зарплата: 70000\n",
      "Должность: Доцент, Зарплата: 65000\n",
      "Преподаватель: Мария, Дисциплины: Физика, Информатика\n",
      "Преподаватель: Алексей, Дисциплины: Химия, Биология, Информатика\n"
     ]
    }
   ],
   "source": [
    "# Решение 2.\n",
    "\n",
    "class People:\n",
    "    def __init__(self, name, age):\n",
    "        self.name = name\n",
    "        self.age = age\n",
    "\n",
    "    def info(self):\n",
    "        return f\"Имя: {self.name}, Возраст: {self.age}\"\n",
    "\n",
    "class Worker(People):\n",
    "    def __init__(self, name, age, post, salary):\n",
    "        super().__init__(name, age)\n",
    "        self.post = post\n",
    "        self.salary = salary\n",
    "\n",
    "    def __str__(self):\n",
    "        return f\"Сотрудник: {self.name}, Должность: {self.post}, Зарплата: {self.salary}\"\n",
    "\n",
    "\n",
    "class Teacher(Worker):\n",
    "    def __init__(self, name, age, post, salary, disciplines):\n",
    "        super().__init__(name, age, post, salary)\n",
    "        self.__disciplines = disciplines\n",
    "\n",
    "    def __str__(self):\n",
    "        return f\"Преподаватель: {self.name}, Дисциплины: {', '.join(self.__disciplines)}\"\n",
    "\n",
    "    def add_dis(self, discipline):\n",
    "        self.__disciplines.append(discipline)\n",
    "\n",
    "    def delete_dis(self, discipline):\n",
    "        if discipline in self.__disciplines:\n",
    "            self.__disciplines.remove(discipline)\n",
    "people_list = [\n",
    "    People(\"Иван\", 25),\n",
    "    People(\"Анна\", 35),\n",
    "    Worker(\"Петр\", 40, \"Менеджер\", 50000),\n",
    "    Worker(\"Сергей\", 30, \"Инженер\", 60000),\n",
    "    Teacher(\"Мария\", 28, \"Профессор\", 70000, [\"Математика\", \"Физика\"]),\n",
    "    Teacher(\"Алексей\", 32, \"Доцент\", 65000, [\"Химия\", \"Биология\"])\n",
    "]\n",
    "\n",
    "for person in people_list:\n",
    "    print(person.info())\n",
    "\n",
    "for person in people_list:\n",
    "    if person.age < 30:\n",
    "        print(person.name)\n",
    "\n",
    "for worker in people_list:\n",
    "    if isinstance(worker, Worker):\n",
    "        print(f\"Должность: {worker.post}, Зарплата: {worker.salary}\")\n",
    "\n",
    "for teacher in people_list:\n",
    "    if isinstance(teacher, Teacher):\n",
    "        teacher.add_dis(\"Информатика\")\n",
    "        teacher.delete_dis(\"Математика\")\n",
    "        print(teacher)\n",
    "\n"
   ]
  },
  {
   "cell_type": "markdown",
   "metadata": {},
   "source": [
    "3.Создайте класс Заказ(Order), у которого есть свойства кодтовара(code), цена(price), количество(count) и методы _init и str.\n",
    "\n",
    "Создайте 2 класса-потомка: Опт(Opt) и Розница(Retail). В этих классах создайте методы init, str.и сумма_заказа(summa), позволяющий узнать стоимость заказа. Для опта стоимость единицы товара составляет 95% от цены, а при покупке более 500 штук – 90% цены. В розницу стоимость единицы товара составляет 100% цены. Стоимость заказа равна произведению цены на количество.\n",
    "\n",
    "Продемонстрируйте работу с классами, создав необходимые объекты и обратившись к их свойствам и методам"
   ]
  },
  {
   "cell_type": "code",
   "execution_count": 9,
   "metadata": {},
   "outputs": [
    {
     "name": "stdout",
     "output_type": "stream",
     "text": [
      "Код товара: 123, Цена: 100, Количество: 550\n",
      "Сумма оптового заказа: 49500.0\n",
      "Код товара: 456, Цена: 150, Количество: 10\n",
      "Сумма розничного заказа: 1500\n"
     ]
    }
   ],
   "source": [
    "# Решение 3.\n",
    "    \n",
    "class Order:\n",
    "    def __init__(self, code, price, count):\n",
    "        self.code = code\n",
    "        self.price = price\n",
    "        self.count = count\n",
    "\n",
    "    def __str__(self):\n",
    "        return f\"Код товара: {self.code}, Цена: {self.price}, Количество: {self.count}\"\n",
    "\n",
    "class Opt(Order):\n",
    "    def __init__(self, code, price, count):\n",
    "        super().__init__(code, price, count)\n",
    "\n",
    "    def summa(self):\n",
    "        if self.count > 500:\n",
    "            return self.price * self.count * 0.9\n",
    "        else:\n",
    "\n",
    "            return self.price * self.count * 0.95\n",
    "class Retail(Order):\n",
    "    def __init__(self, code, price, count):\n",
    "        super().__init__(code, price, count)\n",
    "\n",
    "    def summa(self):\n",
    "        return self.price * self.count\n",
    "\n",
    "opt_order = Opt(\"123\", 100, 550)\n",
    "retail_order = Retail(\"456\", 150, 10)\n",
    "\n",
    "print(opt_order)\n",
    "print(f\"Сумма оптового заказа: {opt_order.summa()}\")\n",
    "\n",
    "print(retail_order)\n",
    "print(f\"Сумма розничного заказа: {retail_order.summa()}\")\n",
    "\n"
   ]
  },
  {
   "cell_type": "markdown",
   "metadata": {},
   "source": [
    "4.Написать функцию-генератор my_func_2(lst), которая принимает объект, поддерживающий итерации с произвольным уровнем вложенности, и возвращает все элементы по одному."
   ]
  },
  {
   "cell_type": "code",
   "execution_count": 10,
   "metadata": {},
   "outputs": [
    {
     "name": "stdout",
     "output_type": "stream",
     "text": [
      "Введите вложенный список (например, [1, [2, 3], [4, [5, 6], 7], 8]):  [1, [2, 3], [4, [5, 6], 7], 8]\n",
      "1\n",
      "2\n",
      "3\n",
      "4\n",
      "5\n",
      "6\n",
      "7\n",
      "8\n"
     ]
    }
   ],
   "source": [
    "# Решение 4.\n",
    "# Решение 4.\n",
    "def my_func_2(lst):\n",
    "    for item in lst:\n",
    "        if isinstance(item, list):\n",
    "            yield from my_func_2(item)\n",
    "        else:\n",
    "            yield item\n",
    "\n",
    "\n",
    "def input_to_list():\n",
    "    user_input = input(\"Введите вложенный список (например, [1, [2, 3], [4, [5, 6], 7], 8]): \")\n",
    "    try:\n",
    "        return eval(user_input)\n",
    "    except SyntaxError:\n",
    "        print(\"Неверный формат ввода. Попробуйте снова.\")\n",
    "        return input_to_list()\n",
    "\n",
    "nested_list = input_to_list()\n",
    "\n",
    "for element in my_func_2(nested_list):\n",
    "    print(element)\n"
   ]
  },
  {
   "cell_type": "markdown",
   "metadata": {},
   "source": [
    "5.С помощью механизма map/filter/reduce (хотя бы одна из этих функций должна быть использована в решении) посчитать в тексте количество слов, состоящих не менее, чем из 3-х букв. Слова в тексте разделены пробелами. Написать реализацию в одну строку. Оформить решение в виде функции my_func_3(text), т.е. шаблон таков:\n",
    "\n",
    "строка с import, если необходимо def my_func_3(text): return # однострочная реализация задания"
   ]
  },
  {
   "cell_type": "code",
   "execution_count": 11,
   "metadata": {},
   "outputs": [
    {
     "name": "stdout",
     "output_type": "stream",
     "text": [
      "5\n"
     ]
    }
   ],
   "source": [
    "# Решение 5.\n",
    "\n",
    "def my_func_3(text):\n",
    "    return len(list(filter(lambda word: len(word) >= 3, text.split())))\n",
    "\n",
    "text = \"Hello Sun! Hello, Аleksey Nikolayevich,\"\n",
    "print(my_func_3(text))"
   ]
  },
  {
   "cell_type": "markdown",
   "metadata": {},
   "source": [
    "6. Написать декоратор с параметром my_decorator(n). Декоратор превращает функцию, возвращающую поддерживающий итерации объект (далее \"последовательность\"), в функцию-генератор. Если декорируемая функция возвращает что-то другое, а не последовательность, то декоратор должен вернуть этот результат вызова функции без изменений.\n",
    "\n",
    "Проверку объекта можно организовать при помощи условия import collections if isinstance(item, collections.Iterable)\n",
    "\n",
    "Параметром декоратора может быть целое положительное число n, тогда получившаяся функция-декоратор должна генерировать по одному значению из последовательности, повторенной n раз. Также параметр может принимать строковое значение 'inf', тогда функция-декоратор генерирует по одному значению из последовательности, повторенной бесконечное число раз (зацикливает генерирование результата).\n",
    "\n",
    "Подсказка: сначала реализовать случай со значением аргумента 'inf', а затем модифицировать для целочисленного значения аргумента."
   ]
  },
  {
   "cell_type": "code",
   "execution_count": null,
   "metadata": {},
   "outputs": [],
   "source": [
    "# Решение 6."
   ]
  }
 ],
 "metadata": {
  "kernelspec": {
   "display_name": "Python 3 (ipykernel)",
   "language": "python",
   "name": "python3"
  },
  "language_info": {
   "codemirror_mode": {
    "name": "ipython",
    "version": 3
   },
   "file_extension": ".py",
   "mimetype": "text/x-python",
   "name": "python",
   "nbconvert_exporter": "python",
   "pygments_lexer": "ipython3",
   "version": "3.11.5"
  }
 },
 "nbformat": 4,
 "nbformat_minor": 4
}
